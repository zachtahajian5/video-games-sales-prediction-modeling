{
  "nbformat": 4,
  "nbformat_minor": 0,
  "metadata": {
    "colab": {
      "provenance": [],
      "mount_file_id": "18P_1vv3k0iFKQuCOFkJxbTQKbEPt0ImU",
      "authorship_tag": "ABX9TyPJSI4ZwMDysR51WccZqxw5",
      "include_colab_link": true
    },
    "kernelspec": {
      "name": "python3",
      "display_name": "Python 3"
    },
    "language_info": {
      "name": "python"
    }
  },
  "cells": [
    {
      "cell_type": "markdown",
      "metadata": {
        "id": "view-in-github",
        "colab_type": "text"
      },
      "source": [
        "<a href=\"https://colab.research.google.com/github/zachtahajian5/video-games-sales-prediction-modeling/blob/main/pandas_playaround.ipynb\" target=\"_parent\"><img src=\"https://colab.research.google.com/assets/colab-badge.svg\" alt=\"Open In Colab\"/></a>"
      ]
    },
    {
      "cell_type": "code",
      "execution_count": null,
      "metadata": {
        "id": "0aQ3Iqb_aIfm",
        "colab": {
          "base_uri": "https://localhost:8080/"
        },
        "outputId": "fe927441-01f9-4531-aee0-122a6a9f1408"
      },
      "outputs": [
        {
          "output_type": "stream",
          "name": "stdout",
          "text": [
            "    Rank                         Name Platform    Year         Genre  \\\n",
            "0      1                   Wii Sports      Wii  2006.0        Sports   \n",
            "1      2            Super Mario Bros.      NES  1985.0      Platform   \n",
            "2      3               Mario Kart Wii      Wii  2008.0        Racing   \n",
            "3      4            Wii Sports Resort      Wii  2009.0        Sports   \n",
            "4      5     Pokemon Red/Pokemon Blue       GB  1996.0  Role-Playing   \n",
            "5      6                       Tetris       GB  1989.0        Puzzle   \n",
            "6      7        New Super Mario Bros.       DS  2006.0      Platform   \n",
            "7      8                     Wii Play      Wii  2006.0          Misc   \n",
            "8      9    New Super Mario Bros. Wii      Wii  2009.0      Platform   \n",
            "9     10                    Duck Hunt      NES  1984.0       Shooter   \n",
            "10    11                   Nintendogs       DS  2005.0    Simulation   \n",
            "11    12                Mario Kart DS       DS  2005.0        Racing   \n",
            "12    13  Pokemon Gold/Pokemon Silver       GB  1999.0  Role-Playing   \n",
            "13    14                      Wii Fit      Wii  2007.0        Sports   \n",
            "14    15                 Wii Fit Plus      Wii  2009.0        Sports   \n",
            "\n",
            "   Publisher  NA_Sales  EU_Sales  JP_Sales  Other_Sales  Global_Sales  \n",
            "0   Nintendo     41.49     29.02      3.77         8.46         82.74  \n",
            "1   Nintendo     29.08      3.58      6.81         0.77         40.24  \n",
            "2   Nintendo     15.85     12.88      3.79         3.31         35.82  \n",
            "3   Nintendo     15.75     11.01      3.28         2.96         33.00  \n",
            "4   Nintendo     11.27      8.89     10.22         1.00         31.37  \n",
            "5   Nintendo     23.20      2.26      4.22         0.58         30.26  \n",
            "6   Nintendo     11.38      9.23      6.50         2.90         30.01  \n",
            "7   Nintendo     14.03      9.20      2.93         2.85         29.02  \n",
            "8   Nintendo     14.59      7.06      4.70         2.26         28.62  \n",
            "9   Nintendo     26.93      0.63      0.28         0.47         28.31  \n",
            "10  Nintendo      9.07     11.00      1.93         2.75         24.76  \n",
            "11  Nintendo      9.81      7.57      4.13         1.92         23.42  \n",
            "12  Nintendo      9.00      6.18      7.20         0.71         23.10  \n",
            "13  Nintendo      8.94      8.03      3.60         2.15         22.72  \n",
            "14  Nintendo      9.09      8.59      2.53         1.79         22.00  \n"
          ]
        }
      ],
      "source": [
        "import pandas as pd\n",
        "\n",
        "\n",
        "\n",
        "vgsales = pd.read_csv(\"vgsales.csv\")\n",
        "\n",
        "head_vgsales_df = vgsales.head(15)\n",
        "#quick 'sanity check'\n",
        "print(head_vgsales_df)\n"
      ]
    },
    {
      "cell_type": "code",
      "source": [
        "head_7_vgsales = vgsales.head(7)\n",
        "print(head_7_vgsales)"
      ],
      "metadata": {
        "colab": {
          "base_uri": "https://localhost:8080/"
        },
        "id": "4XffelyZjAf2",
        "outputId": "80da8fb9-b353-49a3-8162-69defc5f7bb5"
      },
      "execution_count": null,
      "outputs": [
        {
          "output_type": "stream",
          "name": "stdout",
          "text": [
            "   Rank                      Name Platform    Year         Genre Publisher  \\\n",
            "0     1                Wii Sports      Wii  2006.0        Sports  Nintendo   \n",
            "1     2         Super Mario Bros.      NES  1985.0      Platform  Nintendo   \n",
            "2     3            Mario Kart Wii      Wii  2008.0        Racing  Nintendo   \n",
            "3     4         Wii Sports Resort      Wii  2009.0        Sports  Nintendo   \n",
            "4     5  Pokemon Red/Pokemon Blue       GB  1996.0  Role-Playing  Nintendo   \n",
            "5     6                    Tetris       GB  1989.0        Puzzle  Nintendo   \n",
            "6     7     New Super Mario Bros.       DS  2006.0      Platform  Nintendo   \n",
            "\n",
            "   NA_Sales  EU_Sales  JP_Sales  Other_Sales  Global_Sales  \n",
            "0     41.49     29.02      3.77         8.46         82.74  \n",
            "1     29.08      3.58      6.81         0.77         40.24  \n",
            "2     15.85     12.88      3.79         3.31         35.82  \n",
            "3     15.75     11.01      3.28         2.96         33.00  \n",
            "4     11.27      8.89     10.22         1.00         31.37  \n",
            "5     23.20      2.26      4.22         0.58         30.26  \n",
            "6     11.38      9.23      6.50         2.90         30.01  \n"
          ]
        }
      ]
    },
    {
      "cell_type": "code",
      "source": [
        "\n",
        "pd.describe_option('display.max_columns')\n"
      ],
      "metadata": {
        "colab": {
          "base_uri": "https://localhost:8080/"
        },
        "id": "zIX8kXVSlP4K",
        "outputId": "b3b526bd-14cd-4633-d684-d87016586377"
      },
      "execution_count": null,
      "outputs": [
        {
          "output_type": "stream",
          "name": "stdout",
          "text": [
            "display.max_columns : int\n",
            "    If max_cols is exceeded, switch to truncate view. Depending on\n",
            "    `large_repr`, objects are either centrally truncated or printed as\n",
            "    a summary view. 'None' value means unlimited.\n",
            "\n",
            "    In case python/IPython is running in a terminal and `large_repr`\n",
            "    equals 'truncate' this can be set to 0 or None and pandas will auto-detect\n",
            "    the width of the terminal and print a truncated object which fits\n",
            "    the screen width. The IPython notebook, IPython qtconsole, or IDLE\n",
            "    do not run in a terminal and hence it is not possible to do\n",
            "    correct auto-detection and defaults to 20.\n",
            "    [default: 20] [currently: 20]\n"
          ]
        }
      ]
    },
    {
      "cell_type": "markdown",
      "source": [
        "We only have 11 columns in our DataFrame, so the default setoption of display.max_columns = 20 doesn't need to change for our project.\n"
      ],
      "metadata": {
        "id": "oVGQIQMNnwOv"
      }
    },
    {
      "cell_type": "markdown",
      "source": [
        "Still, we would like to see our DataFrame output in a more aesthetically pleasing way, we'll continue to explore options to do so"
      ],
      "metadata": {
        "id": "Wju6L_6doEln"
      }
    },
    {
      "cell_type": "code",
      "source": [
        "pd.describe_option('display.width')"
      ],
      "metadata": {
        "colab": {
          "base_uri": "https://localhost:8080/"
        },
        "id": "5nDxMOjRnfA3",
        "outputId": "6b4112af-d80d-41c9-ceee-acf33f583f6d"
      },
      "execution_count": null,
      "outputs": [
        {
          "output_type": "stream",
          "name": "stdout",
          "text": [
            "display.width : int\n",
            "    Width of the display in characters. In case python/IPython is running in\n",
            "    a terminal this can be set to None and pandas will correctly auto-detect\n",
            "    the width.\n",
            "    Note that the IPython notebook, IPython qtconsole, or IDLE do not run in a\n",
            "    terminal and hence it is not possible to correctly detect the width.\n",
            "    [default: 80] [currently: 80]\n"
          ]
        }
      ]
    },
    {
      "cell_type": "markdown",
      "source": [
        "It looks like we can augment the default display width to try to prevent the data columns from wrapping."
      ],
      "metadata": {
        "id": "b6fCSYJkoh4c"
      }
    },
    {
      "cell_type": "code",
      "source": [
        "\n",
        "pd.describe_option('display.width')\n"
      ],
      "metadata": {
        "colab": {
          "base_uri": "https://localhost:8080/"
        },
        "id": "9sjRZ6U8q5kr",
        "outputId": "106b8651-17ba-4720-f109-2379698299a7"
      },
      "execution_count": null,
      "outputs": [
        {
          "output_type": "stream",
          "name": "stdout",
          "text": [
            "display.width : int\n",
            "    Width of the display in characters. In case python/IPython is running in\n",
            "    a terminal this can be set to None and pandas will correctly auto-detect\n",
            "    the width.\n",
            "    Note that the IPython notebook, IPython qtconsole, or IDLE do not run in a\n",
            "    terminal and hence it is not possible to correctly detect the width.\n",
            "    [default: 80] [currently: 80]\n"
          ]
        }
      ]
    },
    {
      "cell_type": "markdown",
      "source": [
        "We'll try a display width of 250."
      ],
      "metadata": {
        "id": "3_lF0VDQsLo5"
      }
    },
    {
      "cell_type": "code",
      "source": [
        "pd.set_option('display.width', 250)\n",
        "print(head_7_vgsales)"
      ],
      "metadata": {
        "colab": {
          "base_uri": "https://localhost:8080/"
        },
        "id": "rghQ-VCgsbBj",
        "outputId": "732ee8ca-3b4b-42f2-c4ea-c5f1899d8ecb"
      },
      "execution_count": null,
      "outputs": [
        {
          "output_type": "stream",
          "name": "stdout",
          "text": [
            "   Rank                      Name Platform    Year         Genre Publisher  NA_Sales  EU_Sales  JP_Sales  Other_Sales  Global_Sales\n",
            "0     1                Wii Sports      Wii  2006.0        Sports  Nintendo     41.49     29.02      3.77         8.46         82.74\n",
            "1     2         Super Mario Bros.      NES  1985.0      Platform  Nintendo     29.08      3.58      6.81         0.77         40.24\n",
            "2     3            Mario Kart Wii      Wii  2008.0        Racing  Nintendo     15.85     12.88      3.79         3.31         35.82\n",
            "3     4         Wii Sports Resort      Wii  2009.0        Sports  Nintendo     15.75     11.01      3.28         2.96         33.00\n",
            "4     5  Pokemon Red/Pokemon Blue       GB  1996.0  Role-Playing  Nintendo     11.27      8.89     10.22         1.00         31.37\n",
            "5     6                    Tetris       GB  1989.0        Puzzle  Nintendo     23.20      2.26      4.22         0.58         30.26\n",
            "6     7     New Super Mario Bros.       DS  2006.0      Platform  Nintendo     11.38      9.23      6.50         2.90         30.01\n"
          ]
        }
      ]
    },
    {
      "cell_type": "markdown",
      "source": [
        "That worked! All columns are output on a single line. No wrapping!"
      ],
      "metadata": {
        "id": "u_BzWaF7s3ef"
      }
    },
    {
      "cell_type": "markdown",
      "source": [
        "now that our output is more readable on this end, we're ready to move on to more  DataFrame operations using pandas"
      ],
      "metadata": {
        "id": "rHQd0yUOvk17"
      }
    },
    {
      "cell_type": "markdown",
      "source": [
        "tail method: first we'll pull default\n",
        "then n= 7\n",
        "\n",
        "then we'll print both outputs"
      ],
      "metadata": {
        "id": "ALexdKtzxoAa"
      }
    },
    {
      "cell_type": "code",
      "source": [
        "tail_vgsales = vgsales.tail()\n",
        "print(tail_vgsales)"
      ],
      "metadata": {
        "colab": {
          "base_uri": "https://localhost:8080/"
        },
        "id": "Qn7sphHLv7YS",
        "outputId": "d2f79992-19f5-46e0-9b24-77333de4819c"
      },
      "execution_count": null,
      "outputs": [
        {
          "output_type": "stream",
          "name": "stdout",
          "text": [
            "        Rank                                              Name Platform    Year     Genre   Publisher  NA_Sales  EU_Sales  JP_Sales  Other_Sales  Global_Sales\n",
            "16593  16596                Woody Woodpecker in Crazy Castle 5      GBA  2002.0  Platform       Kemco      0.01      0.00       0.0          0.0          0.01\n",
            "16594  16597                     Men in Black II: Alien Escape       GC  2003.0   Shooter  Infogrames      0.01      0.00       0.0          0.0          0.01\n",
            "16595  16598  SCORE International Baja 1000: The Official Game      PS2  2008.0    Racing  Activision      0.00      0.00       0.0          0.0          0.01\n",
            "16596  16599                                        Know How 2       DS  2010.0    Puzzle    7G//AMES      0.00      0.01       0.0          0.0          0.01\n",
            "16597  16600                                  Spirits & Spells      GBA  2003.0  Platform     Wanadoo      0.01      0.00       0.0          0.0          0.01\n"
          ]
        }
      ]
    },
    {
      "cell_type": "code",
      "source": [
        "tail_three_vgsales = vgsales.tail(3)\n",
        "print(tail_three_vgsales)"
      ],
      "metadata": {
        "colab": {
          "base_uri": "https://localhost:8080/"
        },
        "outputId": "ea5f8200-e2da-4eaf-ad3f-87a09d103dc7",
        "id": "MOxqumyuyruq"
      },
      "execution_count": null,
      "outputs": [
        {
          "output_type": "stream",
          "name": "stdout",
          "text": [
            "        Rank                                              Name Platform    Year     Genre   Publisher  NA_Sales  EU_Sales  JP_Sales  Other_Sales  Global_Sales\n",
            "16595  16598  SCORE International Baja 1000: The Official Game      PS2  2008.0    Racing  Activision      0.00      0.00       0.0          0.0          0.01\n",
            "16596  16599                                        Know How 2       DS  2010.0    Puzzle    7G//AMES      0.00      0.01       0.0          0.0          0.01\n",
            "16597  16600                                  Spirits & Spells      GBA  2003.0  Platform     Wanadoo      0.01      0.00       0.0          0.0          0.01\n"
          ]
        }
      ]
    },
    {
      "cell_type": "markdown",
      "source": [
        "we're noticing an undesireable output in certain blocks due to the unreasonabld columb width created by some of our longer strings for 'Name'.\n",
        "\n",
        "let's apply another set option to fix this.\n",
        "we'll start by insoecting the 'display.max_colwidth' set option using describe  option"
      ],
      "metadata": {
        "id": "itwg3d63zgC5"
      }
    },
    {
      "cell_type": "code",
      "source": [
        "pd.describe_option('display.max_colwidth')"
      ],
      "metadata": {
        "colab": {
          "base_uri": "https://localhost:8080/"
        },
        "id": "Fk-m2UGrzfr4",
        "outputId": "9170f1b1-8269-4c06-faa1-fcaf07fbff9b"
      },
      "execution_count": null,
      "outputs": [
        {
          "output_type": "stream",
          "name": "stdout",
          "text": [
            "display.max_colwidth : int or None\n",
            "    The maximum width in characters of a column in the repr of\n",
            "    a pandas data structure. When the column overflows, a \"...\"\n",
            "    placeholder is embedded in the output. A 'None' value means unlimited.\n",
            "    [default: 50] [currently: 50]\n"
          ]
        }
      ]
    },
    {
      "cell_type": "markdown",
      "source": [
        "it says our max column width is 50 characters, let's get that down to 20.\n"
      ],
      "metadata": {
        "id": "nYeiF1iX01iU"
      }
    },
    {
      "cell_type": "code",
      "source": [
        "pd.set_option('display.max_colwidth', 20)\n",
        "print(tail_three_vgsales)"
      ],
      "metadata": {
        "colab": {
          "base_uri": "https://localhost:8080/"
        },
        "id": "OaUYkspV1Z1U",
        "outputId": "30ca0bc0-d9c0-4601-81bb-055e6cc74553"
      },
      "execution_count": null,
      "outputs": [
        {
          "output_type": "stream",
          "name": "stdout",
          "text": [
            "        Rank                 Name Platform    Year     Genre   Publisher  NA_Sales  EU_Sales  JP_Sales  Other_Sales  Global_Sales\n",
            "16595  16598  SCORE Internatio...      PS2  2008.0    Racing  Activision      0.00      0.00       0.0          0.0          0.01\n",
            "16596  16599           Know How 2       DS  2010.0    Puzzle    7G//AMES      0.00      0.01       0.0          0.0          0.01\n",
            "16597  16600     Spirits & Spells      GBA  2003.0  Platform     Wanadoo      0.01      0.00       0.0          0.0          0.01\n"
          ]
        }
      ]
    }
  ]
}